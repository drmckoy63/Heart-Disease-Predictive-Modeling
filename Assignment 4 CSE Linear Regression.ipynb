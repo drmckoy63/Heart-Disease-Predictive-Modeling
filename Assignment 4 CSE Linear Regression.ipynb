{
 "cells": [
  {
   "cell_type": "markdown",
   "id": "33c963eb",
   "metadata": {},
   "source": [
    "# Predictive Modeling for Heart Disease: Biking vs Smoking"
   ]
  },
  {
   "cell_type": "code",
   "execution_count": 47,
   "id": "9f0a2c72",
   "metadata": {},
   "outputs": [],
   "source": [
    "import pandas as pd \n",
    "import numpy as np \n",
    "import matplotlib.pyplot as plt\n",
    "import numpy as np\n",
    "from sklearn.linear_model import LinearRegression\n",
    "from sklearn.model_selection import train_test_split"
   ]
  },
  {
   "cell_type": "code",
   "execution_count": 28,
   "id": "e0a7219d",
   "metadata": {},
   "outputs": [],
   "source": [
    "h = pd.read_csv('heart.csv')"
   ]
  },
  {
   "cell_type": "markdown",
   "id": "ab2f89da",
   "metadata": {},
   "source": [
    "# 1"
   ]
  },
  {
   "cell_type": "code",
   "execution_count": 29,
   "id": "50892191",
   "metadata": {},
   "outputs": [
    {
     "data": {
      "text/html": [
       "<div>\n",
       "<style scoped>\n",
       "    .dataframe tbody tr th:only-of-type {\n",
       "        vertical-align: middle;\n",
       "    }\n",
       "\n",
       "    .dataframe tbody tr th {\n",
       "        vertical-align: top;\n",
       "    }\n",
       "\n",
       "    .dataframe thead th {\n",
       "        text-align: right;\n",
       "    }\n",
       "</style>\n",
       "<table border=\"1\" class=\"dataframe\">\n",
       "  <thead>\n",
       "    <tr style=\"text-align: right;\">\n",
       "      <th></th>\n",
       "      <th>SN</th>\n",
       "      <th>biking</th>\n",
       "      <th>smoking</th>\n",
       "      <th>heartdisease</th>\n",
       "    </tr>\n",
       "  </thead>\n",
       "  <tbody>\n",
       "    <tr>\n",
       "      <th>0</th>\n",
       "      <td>1</td>\n",
       "      <td>30.801246</td>\n",
       "      <td>10.896608</td>\n",
       "      <td>11.769423</td>\n",
       "    </tr>\n",
       "    <tr>\n",
       "      <th>1</th>\n",
       "      <td>2</td>\n",
       "      <td>65.129215</td>\n",
       "      <td>2.219563</td>\n",
       "      <td>2.854081</td>\n",
       "    </tr>\n",
       "    <tr>\n",
       "      <th>2</th>\n",
       "      <td>3</td>\n",
       "      <td>1.959665</td>\n",
       "      <td>17.588331</td>\n",
       "      <td>17.177803</td>\n",
       "    </tr>\n",
       "    <tr>\n",
       "      <th>3</th>\n",
       "      <td>4</td>\n",
       "      <td>44.800196</td>\n",
       "      <td>2.802559</td>\n",
       "      <td>6.816647</td>\n",
       "    </tr>\n",
       "    <tr>\n",
       "      <th>4</th>\n",
       "      <td>5</td>\n",
       "      <td>69.428454</td>\n",
       "      <td>15.974505</td>\n",
       "      <td>4.062224</td>\n",
       "    </tr>\n",
       "  </tbody>\n",
       "</table>\n",
       "</div>"
      ],
      "text/plain": [
       "   SN     biking    smoking  heartdisease\n",
       "0   1  30.801246  10.896608     11.769423\n",
       "1   2  65.129215   2.219563      2.854081\n",
       "2   3   1.959665  17.588331     17.177803\n",
       "3   4  44.800196   2.802559      6.816647\n",
       "4   5  69.428454  15.974505      4.062224"
      ]
     },
     "execution_count": 29,
     "metadata": {},
     "output_type": "execute_result"
    }
   ],
   "source": [
    "h.head(5)"
   ]
  },
  {
   "cell_type": "markdown",
   "id": "2470998f",
   "metadata": {},
   "source": [
    "#  2. Separate the predictors making biking X predictor and smoking as X predictor "
   ]
  },
  {
   "cell_type": "code",
   "execution_count": 60,
   "id": "f0bd8144",
   "metadata": {},
   "outputs": [],
   "source": [
    "\n",
    "\n",
    "X = h['biking']\n",
    "\n",
    "X_1 = h['smoking']\n",
    "\n",
    "X_t = h[['biking', 'smoking']]\n",
    "\n",
    "y = h['heartdisease']"
   ]
  },
  {
   "cell_type": "code",
   "execution_count": 31,
   "id": "d0b39839",
   "metadata": {},
   "outputs": [
    {
     "data": {
      "text/plain": [
       "0    11.769423\n",
       "1     2.854081\n",
       "2    17.177803\n",
       "3     6.816647\n",
       "4     4.062224\n",
       "Name: heartdisease, dtype: float64"
      ]
     },
     "execution_count": 31,
     "metadata": {},
     "output_type": "execute_result"
    }
   ],
   "source": [
    "y.head()"
   ]
  },
  {
   "cell_type": "code",
   "execution_count": 32,
   "id": "eddc143d",
   "metadata": {},
   "outputs": [
    {
     "data": {
      "text/plain": [
       "0    30.801246\n",
       "1    65.129215\n",
       "2     1.959665\n",
       "3    44.800196\n",
       "4    69.428454\n",
       "Name: biking, dtype: float64"
      ]
     },
     "execution_count": 32,
     "metadata": {},
     "output_type": "execute_result"
    }
   ],
   "source": [
    "X.head()"
   ]
  },
  {
   "cell_type": "code",
   "execution_count": 33,
   "id": "049a148f",
   "metadata": {},
   "outputs": [
    {
     "data": {
      "text/plain": [
       "0    10.896608\n",
       "1     2.219563\n",
       "2    17.588331\n",
       "3     2.802559\n",
       "4    15.974505\n",
       "Name: smoking, dtype: float64"
      ]
     },
     "execution_count": 33,
     "metadata": {},
     "output_type": "execute_result"
    }
   ],
   "source": [
    "X_1.head()"
   ]
  },
  {
   "cell_type": "code",
   "execution_count": 61,
   "id": "862b425b",
   "metadata": {},
   "outputs": [
    {
     "data": {
      "text/plain": [
       "(498, 2)"
      ]
     },
     "execution_count": 61,
     "metadata": {},
     "output_type": "execute_result"
    }
   ],
   "source": [
    "X_t.shape"
   ]
  },
  {
   "cell_type": "markdown",
   "id": "f69b9eae",
   "metadata": {},
   "source": [
    "# 3"
   ]
  },
  {
   "cell_type": "code",
   "execution_count": 43,
   "id": "df5bf63c",
   "metadata": {},
   "outputs": [
    {
     "data": {
      "image/png": "[encoded data removed]",
      "text/plain": [
       "<Figure size 432x288 with 1 Axes>"
      ]
     },
     "metadata": {
      "needs_background": "light"
     },
     "output_type": "display_data"
    }
   ],
   "source": [
    "# Scatter Plot for X \n",
    "plt.scatter(X, y, cmap=\"jet\")\n",
    "plt.xlabel('biking')\n",
    "plt.ylabel('heart disease')\n",
    "plt.show()"
   ]
  },
  {
   "cell_type": "markdown",
   "id": "646a1a41",
   "metadata": {},
   "source": [
    "From the Scatter plot of we can conclude that people who bike will suffer less from heart disease problems."
   ]
  },
  {
   "cell_type": "code",
   "execution_count": 37,
   "id": "a673a595",
   "metadata": {},
   "outputs": [
    {
     "data": {
      "image/png": "[encoded data removed]",
      "text/plain": [
       "<Figure size 432x288 with 1 Axes>"
      ]
     },
     "metadata": {
      "needs_background": "light"
     },
     "output_type": "display_data"
    }
   ],
   "source": [
    "# Scatter Plot for X_1\n",
    "plt.scatter(X_1, y, cmap='jet')\n",
    "plt.xlabel('smoking')\n",
    "plt.ylabel('heart disease')\n",
    "plt.show()"
   ]
  },
  {
   "cell_type": "markdown",
   "id": "4c98660d",
   "metadata": {},
   "source": [
    "From the Scatter plot above we see that there is some correlation between the smoking and heart disease. Showing that the more you smoke the I higher chances of heart disease."
   ]
  },
  {
   "cell_type": "markdown",
   "id": "defce748",
   "metadata": {},
   "source": [
    "# 4"
   ]
  },
  {
   "cell_type": "code",
   "execution_count": 45,
   "id": "bcc7876b",
   "metadata": {},
   "outputs": [
    {
     "data": {
      "image/png": "[encoded data removed]",
      "text/plain": [
       "<Figure size 432x288 with 1 Axes>"
      ]
     },
     "metadata": {
      "needs_background": "light"
     },
     "output_type": "display_data"
    }
   ],
   "source": [
    "# Scatter Plot for X & X_1 \n",
    "plt.scatter(X, X_1, cmap='jet')\n",
    "plt.xlabel('smoking')\n",
    "plt.ylabel('biking')\n",
    "plt.show()"
   ]
  },
  {
   "cell_type": "markdown",
   "id": "f7221de1",
   "metadata": {},
   "source": [
    "From the above visual we see that there is not any correlation that can be gather from using biking and smoking (the predictors) for insight into the data."
   ]
  },
  {
   "cell_type": "markdown",
   "id": "ca90bd86",
   "metadata": {},
   "source": [
    "# 5"
   ]
  },
  {
   "cell_type": "code",
   "execution_count": 63,
   "id": "7a346ee7",
   "metadata": {},
   "outputs": [],
   "source": [
    "X_train, X_test, y_train, y_test = train_test_split(X_t, y, test_size=0.3, random_state=0) "
   ]
  },
  {
   "cell_type": "markdown",
   "id": "a4c3c85c",
   "metadata": {},
   "source": [
    "The reasoning behind having the test size at 30% is to be able to validate true. Data splitting is typically done to avoid overfitting. That is an instance where a machine learning model fits its training data too well and fails to reliably fit additional data by splitting the data by 30% we allow some marginal error space in case the data has no correlation. When comparing machine learning algorithms, it is required   that they are fit and evaluated on the same subsets of the dataset."
   ]
  },
  {
   "cell_type": "markdown",
   "id": "0b25006a",
   "metadata": {},
   "source": [
    "# 6"
   ]
  },
  {
   "cell_type": "code",
   "execution_count": 68,
   "id": "5ec2a48c",
   "metadata": {},
   "outputs": [
    {
     "data": {
      "text/plain": [
       "LinearRegression()"
      ]
     },
     "execution_count": 68,
     "metadata": {},
     "output_type": "execute_result"
    }
   ],
   "source": [
    "# Linear Regression Model \n",
    "from sklearn.linear_model import LinearRegression\n",
    "regressor = LinearRegression()\n",
    "regressor.fit(X_train, y_train)"
   ]
  },
  {
   "cell_type": "code",
   "execution_count": 69,
   "id": "e7827ddd",
   "metadata": {},
   "outputs": [
    {
     "name": "stdout",
     "output_type": "stream",
     "text": [
      "15.05861065444218\n"
     ]
    }
   ],
   "source": [
    "print(regressor.intercept_)"
   ]
  },
  {
   "cell_type": "code",
   "execution_count": 70,
   "id": "367081ea",
   "metadata": {},
   "outputs": [
    {
     "name": "stdout",
     "output_type": "stream",
     "text": [
      "[-0.20082344  0.17457694]\n"
     ]
    }
   ],
   "source": [
    "print(regressor.coef_)"
   ]
  },
  {
   "cell_type": "markdown",
   "id": "c266a672",
   "metadata": {},
   "source": [
    "# 8"
   ]
  },
  {
   "cell_type": "code",
   "execution_count": 80,
   "id": "4988bdb6",
   "metadata": {},
   "outputs": [
    {
     "name": "stdout",
     "output_type": "stream",
     "text": [
      "R^2 :  0.9785466350105418\n",
      "MAE : 0.5457415156909675\n",
      "RMSE: 0.6768041599256646\n"
     ]
    }
   ],
   "source": [
    "from sklearn.metrics import mean_absolute_error,r2_score,mean_squared_error\n",
    "import numpy as np\n",
    "def run_experiment(model):\n",
    "    model.fit(X_train, y_train)\n",
    "    y_pred = model.predict(X_test)\n",
    "    r2 = r2_score(y_test, y_pred)\n",
    "    print(\"R^2 : \", r2_score(y_test, y_pred))\n",
    "    mae = mean_absolute_error(y_test,y_pred)\n",
    "    print(\"MAE :\", mean_absolute_error(y_test,y_pred))\n",
    "    mea_sqrt = np.sqrt(mean_squared_error(y_test, y_pred))\n",
    "    print(\"RMSE:\",np.sqrt(mean_squared_error(y_test, y_pred)))\n",
    "    return [r2, mae, mea_sqrt]\n",
    "    \n",
    "model = LinearRegression()\n",
    "values = run_experiment(model)"
   ]
  },
  {
   "cell_type": "code",
   "execution_count": 96,
   "id": "be3526c9",
   "metadata": {},
   "outputs": [
    {
     "data": {
      "image/png": "[encoded data removed]",
      "text/plain": [
       "<Figure size 432x288 with 1 Axes>"
      ]
     },
     "metadata": {
      "needs_background": "light"
     },
     "output_type": "display_data"
    }
   ],
   "source": [
    "labels_1 = ['R^2', 'MAE', 'RMSE']\n",
    "x = np.arange(len(labels))  # the label locations\n",
    "\n",
    "fig, ax = plt.subplots()\n",
    "rects1 = ax.bar(x, values)\n",
    "ax.set_xticks(x)\n",
    "ax.set_xticklabels(labels_1)\n",
    "plt.show()"
   ]
  },
  {
   "cell_type": "markdown",
   "id": "606e362b",
   "metadata": {},
   "source": [
    "# 9 "
   ]
  },
  {
   "cell_type": "markdown",
   "id": "3059fd4e",
   "metadata": {},
   "source": [
    "The metrics are telling us that each designate a scorer/metrics  object with the scoring parameter; the table below shows all possible values. All scorer objects follow the convention that higher return values are better than lower return values. Thus metrics which measure the distance between the model and the data. Because we returned a high r^2 value we are able to establish that are data is reliable with high accuaracy."
   ]
  },
  {
   "cell_type": "code",
   "execution_count": 104,
   "id": "6cec6e10",
   "metadata": {},
   "outputs": [
    {
     "data": {
      "text/plain": [
       "array([16.52682527, 13.86920673,  9.56820755,  5.21798153, 10.81381525])"
      ]
     },
     "execution_count": 104,
     "metadata": {},
     "output_type": "execute_result"
    }
   ],
   "source": [
    "# 10 \n",
    "data_table = {'biking': [3.99, 19.11, 44.43, 55.13, 34.22],\n",
    "        'Smoking': [13.00, 15.17, 19.66, 7.05,15.05]}\n",
    "\n",
    "data = pd.DataFrame(data_table)\n",
    "model.predict(data)"
   ]
  },
  {
   "cell_type": "markdown",
   "id": "5e074033",
   "metadata": {},
   "source": [
    "From the results we are able to see that the likelihood of Person 1: 16.52 % because his smoking percentage was higher than his biking percntage. Person 2: 13.86 % has a slightly a lower pecentage of getting heart disease due to the fact the he bikes 4 % more than he smokes . Person 3: 9.56 % because his smoking percentage was higher than his biking percntage. Person 4: 5.21 % chance of obtaining heart disease, because his biking percentage was higher than his smoking percntage. Person 5: 10.81 % because his smoking percentage was higher than his biking percntage. Person 5 bikes double the amount he smokes which plays a major role in a lower chance of potential obtaining heart disease.  \n"
   ]
  }
 ],
 "metadata": {
  "kernelspec": {
   "display_name": "Python 3",
   "language": "python",
   "name": "python3"
  },
  "language_info": {
   "codemirror_mode": {
    "name": "ipython",
    "version": 3
   },
   "file_extension": ".py",
   "mimetype": "text/x-python",
   "name": "python",
   "nbconvert_exporter": "python",
   "pygments_lexer": "ipython3",
   "version": "3.8.8"
  }
 },
 "nbformat": 4,
 "nbformat_minor": 5
}
